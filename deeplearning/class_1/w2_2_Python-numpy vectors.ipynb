{
 "cells": [
  {
   "cell_type": "code",
   "execution_count": 1,
   "id": "3b816407",
   "metadata": {},
   "outputs": [],
   "source": [
    "import numpy as np"
   ]
  },
  {
   "cell_type": "code",
   "execution_count": 3,
   "id": "58b78470",
   "metadata": {},
   "outputs": [
    {
     "name": "stdout",
     "output_type": "stream",
     "text": [
      "[0.499023   0.57329804 0.61915925 0.81866615 0.24248752]\n",
      "(5,)\n"
     ]
    }
   ],
   "source": [
    "a = np.random.rand(5)  # 배열 a 에 랜덤한 5개의 가우스 변수 생성\n",
    "print(a)\n",
    "print(a.shape)    # 1순위 배열, 행 벡터 & 열 벡터 그 무엇도 아님"
   ]
  },
  {
   "cell_type": "code",
   "execution_count": 4,
   "id": "9b811f33",
   "metadata": {},
   "outputs": [
    {
     "name": "stdout",
     "output_type": "stream",
     "text": [
      "[0.499023   0.57329804 0.61915925 0.81866615 0.24248752]\n"
     ]
    }
   ],
   "source": [
    "print(a.T)  # 행렬을 전치 햇는대 차이가 없음!"
   ]
  },
  {
   "cell_type": "code",
   "execution_count": 6,
   "id": "163f27e7",
   "metadata": {},
   "outputs": [
    {
     "name": "stdout",
     "output_type": "stream",
     "text": [
      "1.6900672288687726\n"
     ]
    }
   ],
   "source": [
    "print(np.dot(a, a.T))"
   ]
  },
  {
   "cell_type": "code",
   "execution_count": 8,
   "id": "48d3196f",
   "metadata": {},
   "outputs": [
    {
     "name": "stdout",
     "output_type": "stream",
     "text": [
      "[[0.683695  ]\n",
      " [1.6865269 ]\n",
      " [0.54654868]\n",
      " [1.87070777]\n",
      " [0.35854393]]\n",
      "[[0.683695   1.6865269  0.54654868 1.87070777 0.35854393]]\n",
      "(5, 1)\n"
     ]
    }
   ],
   "source": [
    "a = np.random.randn(5, 1)\n",
    "print(a)\n",
    "print(a.T)   # 전치가 성공적으로 수행됨\n",
    "print(a.shape)"
   ]
  },
  {
   "cell_type": "code",
   "execution_count": 10,
   "id": "984b724f",
   "metadata": {},
   "outputs": [
    {
     "name": "stdout",
     "output_type": "stream",
     "text": [
      "[[0.46743885 1.15307001 0.3736726  1.27899354 0.24513469]\n",
      " [1.15307001 2.84437298 0.92176906 3.15499897 0.60469398]\n",
      " [0.3736726  0.92176906 0.29871546 1.02243287 0.19596171]\n",
      " [1.27899354 3.15499897 1.02243287 3.49954754 0.67073091]\n",
      " [0.24513469 0.60469398 0.19596171 0.67073091 0.12855375]]\n"
     ]
    }
   ],
   "source": [
    "print(np.dot(a, a.T))"
   ]
  },
  {
   "cell_type": "code",
   "execution_count": 13,
   "id": "9e5fcf9a",
   "metadata": {},
   "outputs": [],
   "source": [
    "assert(a.shape==(5, 1))"
   ]
  },
  {
   "cell_type": "code",
   "execution_count": null,
   "id": "f0ca8c2d",
   "metadata": {},
   "outputs": [],
   "source": []
  }
 ],
 "metadata": {
  "kernelspec": {
   "display_name": "Python 3 (ipykernel)",
   "language": "python",
   "name": "python3"
  },
  "language_info": {
   "codemirror_mode": {
    "name": "ipython",
    "version": 3
   },
   "file_extension": ".py",
   "mimetype": "text/x-python",
   "name": "python",
   "nbconvert_exporter": "python",
   "pygments_lexer": "ipython3",
   "version": "3.9.10"
  }
 },
 "nbformat": 4,
 "nbformat_minor": 5
}
